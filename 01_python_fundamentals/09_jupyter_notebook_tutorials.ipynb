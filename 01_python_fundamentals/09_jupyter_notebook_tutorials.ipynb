{
 "cells": [
  {
   "cell_type": "markdown",
   "metadata": {},
   "source": [
    "### Jupyter Notebook"
   ]
  },
  {
   "cell_type": "markdown",
   "metadata": {},
   "source": [
    "A Jupyter Notebook is an open-source, web-based interactive computing environment that allows users to create and share documents containing live code, equations, visualizations, and explanatory text. It is widely used for data analysis, machine learning, and scientific computing."
   ]
  },
  {
   "cell_type": "markdown",
   "metadata": {},
   "source": [
    "### Cells"
   ]
  },
  {
   "cell_type": "markdown",
   "metadata": {},
   "source": [
    "A cell in a Jupyter Notebook is a fundamental unit where content is written and executed. Cells are used to divide your work into manageable pieces, making it easier to write, execute, and understand your code and documentation. There are three main types of cells in a Jupyter Notebook: \n",
    "- Code Cell\n",
    "- Markdown Cell\n",
    "- Raw Cell"
   ]
  },
  {
   "cell_type": "markdown",
   "metadata": {},
   "source": [
    "### Code Cell"
   ]
  },
  {
   "cell_type": "markdown",
   "metadata": {},
   "source": [
    "Code cells can run python codes"
   ]
  },
  {
   "cell_type": "code",
   "execution_count": 1,
   "metadata": {},
   "outputs": [
    {
     "name": "stdout",
     "output_type": "stream",
     "text": [
      "hello world\n"
     ]
    }
   ],
   "source": [
    "print('hello world')"
   ]
  },
  {
   "cell_type": "markdown",
   "metadata": {},
   "source": [
    "### Markdown Cells"
   ]
  },
  {
   "cell_type": "markdown",
   "metadata": {},
   "source": [
    "Mark down cells can be used to add description to the notebook. Used for text, formatting, and explanations."
   ]
  },
  {
   "cell_type": "markdown",
   "metadata": {},
   "source": [
    "### Keyboard Shortcuts"
   ]
  },
  {
   "cell_type": "markdown",
   "metadata": {},
   "source": [
    "One final thing you may have noticed when running your cells is that their border turns blue after it's been executed, whereas it was green while you were editing it. In a Jupyter Notebook, there is always one “active” cell highlighted with a border whose color denotes its current mode:\n",
    "- **Green outline** — cell is in \"edit mode\"\n",
    "- **Blue outline** — cell is in \"command mode\"\n",
    "So what can we do to a cell when it's in command mode? So far, we have seen how to run a cell with Ctrl + Enter, but there are plenty of other commands we can use. The best way to use them is with keyboard shortcuts.\n",
    "\n",
    "Keyboard shortcuts are a very popular aspect of the Jupyter environment because they facilitate a speedy cell-based workflow. Many of these are actions you can carry out on the active cell when it’s in command mode.\n",
    "\n",
    "Below, you’ll find a list of some of Jupyter’s keyboard shortcuts. You don't need to memorize them all immediately, but this list should give you a good idea of what’s possible.\n",
    "\n",
    "\n",
    "Toggle between command mode (blue) and edit mode (green) with <kbd>Esc</kbd> and <kbd>Enter</kbd>, respectively.\n",
    "While in command mode:\n",
    "- Scroll up and down your cells with your <kbd>Up</kbd> and <kbd>Down</kbd> keys.\n",
    "- Press <kbd>A</kbd> or <kbd>B</kbd> to insert a new cell above or below the active cell.\n",
    "- <kbd>M</kbd> will transform the active cell to a Markdown cell.\n",
    "- <kbd>Y</kbd> will set the active cell to a code cell.\n",
    "- <kbd>D</kbd> + <kbd>D</kbd> (<kbd>D</kbd> twice) will delete the active cell.\n",
    "- <kbd>Z</kbd> will undo cell deletion.\n",
    "- Hold <kbd>Shift</kbd> and press <kbd>Up</kbd> or <kbd>Down</kbd> to select multiple cells at once. With multiple cells selected, <kbd>Shift</kbd> + <kbd>M</kbd> will merge your selection. You can also click and <kbd>Shift</kbd> + Click in the margin to the left of your cells to select a range of them.\n",
    "\n",
    "\n",
    "While in edit mode:\n",
    "- <kbd>Ctrl</kbd> + <kbd>Enter</kbd> to run the current cell.\n",
    "- <kbd>Shift</kbd> + <kbd>Enter</kbd> to run the current cell and move to the next cell (or create a new one if there isn’t a next cell)\n",
    "- <kbd>Alt</kbd> + <kbd>Enter</kbd> to run the current cell and insert a new cell below.\n",
    "- <kbd>Ctrl</kbd> + <kbd>Shift</kbd> + - will split the active cell at the cursor.\n",
    "- <kbd>Ctrl</kbd> + <kbd>Click</kbd> to create multiple cursors within a cell.\n",
    "\n",
    "  \n",
    "Go ahead and try these out in your own notebook. Once you’re ready, create a new Markdown cell and we’ll learn how to format the text in our notebooks."
   ]
  },
  {
   "cell_type": "markdown",
   "metadata": {},
   "source": [
    "### Command Line"
   ]
  },
  {
   "cell_type": "markdown",
   "metadata": {},
   "source": [
    "To use the command line directly from the jupyter notebook just use <kbd>!</kbd> before the command. For example \n",
    " - !cd /home/Downloads\n",
    " - !ls"
   ]
  },
  {
   "cell_type": "markdown",
   "metadata": {},
   "source": [
    "# Kernels in Jupyter Notebooks\n",
    "\n",
    "In Jupyter Notebooks, a **kernel** is the computational engine responsible for executing code within the notebook. It processes the code you write and sends the results back to the notebook interface. The kernel operates independently from the notebook's user interface, meaning you can run multiple notebooks with different kernels simultaneously.\n",
    "\n",
    "## Key Points:\n",
    "- **Default Kernel**: By default, Jupyter uses the Python kernel (IPython) for executing Python code.\n",
    "- **Multiple Kernels**: Jupyter supports a variety of kernels for different languages such as Python, R, Julia, and others.\n",
    "- **Managing Kernels**: You can change, restart, or interrupt kernels from the Jupyter interface. Restarting clears all variables and imports in the current session, while interrupting stops a running code cell.\n",
    "- **Kernel Installation**: Additional kernels can be installed for other programming languages using the `ipykernel` package (for Python) or specific language packages like `IRkernel` (for R).\n",
    "\n",
    "Kernels allow you to run code in isolated environments and can be configured for different languages or virtual environments.\n"
   ]
  }
 ],
 "metadata": {
  "kernelspec": {
   "display_name": "Python 3",
   "language": "python",
   "name": "python3"
  },
  "language_info": {
   "codemirror_mode": {
    "name": "ipython",
    "version": 3
   },
   "file_extension": ".py",
   "mimetype": "text/x-python",
   "name": "python",
   "nbconvert_exporter": "python",
   "pygments_lexer": "ipython3",
   "version": "3.12.7"
  }
 },
 "nbformat": 4,
 "nbformat_minor": 2
}
